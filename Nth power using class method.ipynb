{
 "cells": [
  {
   "cell_type": "markdown",
   "id": "b2908831",
   "metadata": {},
   "source": [
    "# Write a Python class to implement pow(x, n)\n",
    "\n",
    "\n",
    "\n",
    "Explanation:\n",
    "\n",
    "Use should be able to find the nth power of the x.(i.e x*x*x*x...n times)\n",
    "\n",
    "You must implement it using Class\n",
    "\n",
    "\n",
    "\n",
    "Sample Input:\n",
    "\n",
    "x: 10\n",
    "\n",
    "n: 2\n",
    "\n",
    "\n",
    "\n",
    "Sample Output:\n",
    "\n",
    "100"
   ]
  },
  {
   "cell_type": "code",
   "execution_count": 6,
   "id": "2ae9140b",
   "metadata": {},
   "outputs": [],
   "source": [
    "class power:\n",
    "    def pow(self,x,n):\n",
    "        if x ==0 or x==1 or n==1:\n",
    "            return x\n",
    "        if x == -1:\n",
    "            if n%2 == 0:\n",
    "                return 1\n",
    "            else:\n",
    "                return -1\n",
    "        if n==0:\n",
    "            return 1\n",
    "        if n<0:\n",
    "            return 1/self.pow(x,-n)\n",
    "        answer = self.pow(x,n//2)\n",
    "        if n%2 == 0:\n",
    "            return answer*answer\n",
    "        return answer*answer*x"
   ]
  },
  {
   "cell_type": "code",
   "execution_count": 7,
   "id": "391acd41",
   "metadata": {},
   "outputs": [],
   "source": [
    "obj = power()"
   ]
  },
  {
   "cell_type": "code",
   "execution_count": 8,
   "id": "3ca3486e",
   "metadata": {},
   "outputs": [
    {
     "data": {
      "text/plain": [
       "100"
      ]
     },
     "execution_count": 8,
     "metadata": {},
     "output_type": "execute_result"
    }
   ],
   "source": [
    "obj.pow(10,2)"
   ]
  },
  {
   "cell_type": "code",
   "execution_count": 9,
   "id": "c8d87e91",
   "metadata": {},
   "outputs": [
    {
     "data": {
      "text/plain": [
       "0.1"
      ]
     },
     "execution_count": 9,
     "metadata": {},
     "output_type": "execute_result"
    }
   ],
   "source": [
    "obj.pow(10,-1)"
   ]
  },
  {
   "cell_type": "code",
   "execution_count": 10,
   "id": "f609c061",
   "metadata": {},
   "outputs": [
    {
     "data": {
      "text/plain": [
       "-1"
      ]
     },
     "execution_count": 10,
     "metadata": {},
     "output_type": "execute_result"
    }
   ],
   "source": [
    "obj.pow(-1,15)"
   ]
  },
  {
   "cell_type": "code",
   "execution_count": 11,
   "id": "d5894414",
   "metadata": {},
   "outputs": [
    {
     "data": {
      "text/plain": [
       "1000"
      ]
     },
     "execution_count": 11,
     "metadata": {},
     "output_type": "execute_result"
    }
   ],
   "source": [
    "obj.pow(10,3)"
   ]
  },
  {
   "cell_type": "code",
   "execution_count": 12,
   "id": "6b136e2d",
   "metadata": {},
   "outputs": [
    {
     "data": {
      "text/plain": [
       "1"
      ]
     },
     "execution_count": 12,
     "metadata": {},
     "output_type": "execute_result"
    }
   ],
   "source": [
    "obj.pow(-1,16)"
   ]
  },
  {
   "cell_type": "code",
   "execution_count": 13,
   "id": "6ca374ab",
   "metadata": {},
   "outputs": [
    {
     "data": {
      "text/plain": [
       "0"
      ]
     },
     "execution_count": 13,
     "metadata": {},
     "output_type": "execute_result"
    }
   ],
   "source": [
    "obj.pow(0,3)"
   ]
  },
  {
   "cell_type": "code",
   "execution_count": null,
   "id": "3d64e217",
   "metadata": {},
   "outputs": [],
   "source": []
  }
 ],
 "metadata": {
  "kernelspec": {
   "display_name": "Python 3 (ipykernel)",
   "language": "python",
   "name": "python3"
  },
  "language_info": {
   "codemirror_mode": {
    "name": "ipython",
    "version": 3
   },
   "file_extension": ".py",
   "mimetype": "text/x-python",
   "name": "python",
   "nbconvert_exporter": "python",
   "pygments_lexer": "ipython3",
   "version": "3.9.5"
  }
 },
 "nbformat": 4,
 "nbformat_minor": 5
}
